{
 "cells": [
  {
   "cell_type": "code",
   "execution_count": 3,
   "id": "4a04b632-bd99-4d6c-b27b-374113053663",
   "metadata": {
    "tags": []
   },
   "outputs": [
    {
     "name": "stdout",
     "output_type": "stream",
     "text": [
      "[5, 4, 1, 1, 5, 1, 6, 1, 5, 3]\n"
     ]
    }
   ],
   "source": [
    "import numpy as np\n",
    "from monte_carlo import Die\n",
    "\n",
    "faces = np.array([1, 2, 3, 4, 5, 6])\n",
    "die = Die(faces)\n",
    "die.change_weight(1, 2.0)\n",
    "print(die.roll(10))"
   ]
  },
  {
   "cell_type": "code",
   "execution_count": null,
   "id": "c8a343af-62f6-4b9f-8fa9-56e8af0481a9",
   "metadata": {},
   "outputs": [],
   "source": []
  }
 ],
 "metadata": {
  "kernelspec": {
   "display_name": "Python 3 (ipykernel)",
   "language": "python",
   "name": "python3"
  },
  "language_info": {
   "codemirror_mode": {
    "name": "ipython",
    "version": 3
   },
   "file_extension": ".py",
   "mimetype": "text/x-python",
   "name": "python",
   "nbconvert_exporter": "python",
   "pygments_lexer": "ipython3",
   "version": "3.11.4"
  }
 },
 "nbformat": 4,
 "nbformat_minor": 5
}

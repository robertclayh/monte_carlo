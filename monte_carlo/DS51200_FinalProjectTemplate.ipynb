{
 "cells": [
  {
   "cell_type": "markdown",
   "id": "45762487-d33f-486d-8e38-2cdea04e3528",
   "metadata": {},
   "source": [
    "# Final Project Report\n",
    "\n",
    "* Class: DS 5100\n",
    "* Student Name: Robert Clay Harris\n",
    "* Student Net ID: jbm2rt\n",
    "* This URL: https://github.com/robertclayh/monte_carlo/blob/main/project_info/DS51200_FinalProjectTemplate.ipynb"
   ]
  },
  {
   "cell_type": "markdown",
   "id": "acf756c1-ecaa-41dc-b6ca-d566eb94560b",
   "metadata": {},
   "source": [
    "# Instructions\n",
    "\n",
    "Follow the instructions in the Final Project instructions notebook and put evidence of your work in this notebook.\n",
    "\n",
    "Total points for each subsection under **Deliverables** and **Scenarios** are given in parentheses.\n",
    "\n",
    "Breakdowns of points within subsections are specified within subsection instructions as bulleted lists.\n",
    "\n",
    "This project is worth **50 points**."
   ]
  },
  {
   "cell_type": "markdown",
   "id": "89dc7a32-f682-4402-8c1e-b6ccdb3e0e39",
   "metadata": {},
   "source": [
    "# Deliverables"
   ]
  },
  {
   "cell_type": "markdown",
   "id": "d32cb273-9a40-4909-a7ce-51f6e4958d3c",
   "metadata": {},
   "source": [
    "## The Monte Carlo Module (10)\n",
    "\n",
    "- URL included, appropriately named (1).\n",
    "- Includes all three specified classes (3).\n",
    "- Includes at least all 12 specified methods (6; .5 each)."
   ]
  },
  {
   "cell_type": "markdown",
   "id": "f5f3b070-de9e-4de9-bfae-8974d184aa28",
   "metadata": {},
   "source": [
    "Put the URL to your GitHub repo here.\n",
    "\n",
    "Repo URL: https://github.com/robertclayh/monte_carlo/tree/main"
   ]
  },
  {
   "cell_type": "markdown",
   "id": "162370fb-3729-4c85-b040-8c25b2c966d2",
   "metadata": {},
   "source": [
    "Paste a copy of your module here.\n",
    "\n",
    "NOTE: Paste as text, not as code. Use triple backticks to wrap your code blocks."
   ]
  },
  {
   "cell_type": "markdown",
   "id": "d40bf847",
   "metadata": {
    "vscode": {
     "languageId": "raw"
    }
   },
   "source": [
    "### monte_carlo.py\n",
    "\n",
    "```python\n",
    "import numpy as np\n",
    "import pandas as pd\n",
    "\n",
    "class Die:\n",
    "    \"\"\"\n",
    "    Represents a single die with customizable faces and weights.\n",
    "    \n",
    "    A die can be initialized with a set of faces, each having a default \n",
    "    weight of 1.0. Users can modify the weights and roll the die to generate \n",
    "    random outcomes based on these weights.\n",
    "    \"\"\"\n",
    "    def __init__(self, faces: np.ndarray):\n",
    "        \"\"\"\n",
    "        Initializes the Die object with faces and equal weights.\n",
    "        \n",
    "        Parameters:\n",
    "        faces (np.ndarray): A NumPy array of unique face values (strings or numbers).\n",
    "        \n",
    "        Raises:\n",
    "        TypeError: If `faces` is not a NumPy array.\n",
    "        ValueError: If the values in `faces` are not unique.\n",
    "        \"\"\"\n",
    "        if not isinstance(faces, np.ndarray):\n",
    "            raise TypeError(\"Faces must be a NumPy array.\")\n",
    "        if len(faces) != len(set(faces)):\n",
    "            raise ValueError(\"Faces must contain unique values.\")\n",
    "        \n",
    "        self._df = pd.DataFrame({\n",
    "            'face': faces,\n",
    "            'weight': np.ones(len(faces))\n",
    "        }).set_index('face')\n",
    "\n",
    "    def change_weight(self, face, new_weight):\n",
    "        \"\"\"\n",
    "        Changes the weight of a specified face.\n",
    "        \n",
    "        Parameters:\n",
    "        face: The face value whose weight is to be changed.\n",
    "        new_weight: The new weight to be assigned to the face.\n",
    "        \n",
    "        Raises:\n",
    "        IndexError: If the face value is not found in the die faces.\n",
    "        TypeError: If the new weight is not a non-negative number.\n",
    "        \"\"\"\n",
    "        if face not in self._df.index:\n",
    "            raise IndexError(\"Face value not found in die faces.\")\n",
    "        if not isinstance(new_weight, (int, float)) or new_weight < 0:\n",
    "            raise TypeError(\"Weight must be a non-negative number.\")\n",
    "        \n",
    "        self._df.at[face, 'weight'] = new_weight\n",
    "\n",
    "    def roll(self, num_rolls=1):\n",
    "        \"\"\"\n",
    "        Rolls the die one or more times.\n",
    "        \n",
    "        Parameters:\n",
    "        num_rolls (int): The number of times to roll the die. Defaults to 1.\n",
    "        \n",
    "        Returns:\n",
    "        list: A list of outcomes from the rolls.\n",
    "        \"\"\"\n",
    "        return self._df.sample(n=num_rolls, weights='weight', replace=True).index.tolist()\n",
    "\n",
    "    def show(self):\n",
    "        \"\"\"\n",
    "        Shows the current state of the die.\n",
    "        \n",
    "        Returns:\n",
    "        pd.DataFrame: A copy of the die's faces and weights.\n",
    "        \"\"\"\n",
    "        return self._df.copy()\n",
    "    \n",
    "class Game:\n",
    "    \"\"\"\n",
    "    Represents a game consisting of rolling one or more dice (Die objects) one or more times.\n",
    "    \"\"\"\n",
    "    def __init__(self, dice: list):\n",
    "        \"\"\"\n",
    "        Initializes the Game object with a list of Die objects.\n",
    "        \n",
    "        Parameters:\n",
    "        dice (list): A list of Die objects.\n",
    "        \n",
    "        Raises:\n",
    "        TypeError: If the list does not contain Die objects.\n",
    "        \"\"\"\n",
    "        if not all(hasattr(die, 'roll') for die in dice):\n",
    "            raise TypeError(\"All items in the list must be Die objects.\")\n",
    "        \n",
    "        self.dice = dice\n",
    "        self._play_results = None\n",
    "\n",
    "    def play(self, n_rolls: int):\n",
    "        \"\"\"\n",
    "        Rolls all dice in the game for a specified number of times.\n",
    "        \n",
    "        Parameters:\n",
    "        n_rolls (int): The number of times to roll the dice.\n",
    "        \n",
    "        Saves:\n",
    "        A private data frame with the results of the rolls in wide format.\n",
    "        \"\"\"\n",
    "        if n_rolls <= 0:\n",
    "            raise ValueError(\"Number of rolls must be a positive integer.\")\n",
    "        \n",
    "        # Roll each die and collect results\n",
    "        results = {die_idx: die.roll(n_rolls) for die_idx, die in enumerate(self.dice)}\n",
    "        \n",
    "        # Create DataFrame in wide format\n",
    "        self._play_results = pd.DataFrame(results)\n",
    "        self._play_results.index.name = 'Roll'\n",
    "\n",
    "    def show(self, form='wide'):\n",
    "        \"\"\"\n",
    "        Shows the results of the most recent play.\n",
    "        \n",
    "        Parameters:\n",
    "        form (str): The format of the returned data frame, either 'wide' or 'narrow'. Defaults to 'wide'.\n",
    "        \n",
    "        Returns:\n",
    "        pd.DataFrame: A copy of the play results in the specified format.\n",
    "        \n",
    "        Raises:\n",
    "        ValueError: If the form parameter is not 'wide' or 'narrow'.\n",
    "        \"\"\"\n",
    "        if self._play_results is None:\n",
    "            raise ValueError(\"No play results to show. Please play the game first.\")\n",
    "        \n",
    "        if form == 'wide':\n",
    "            return self._play_results.copy()\n",
    "        elif form == 'narrow':\n",
    "            return self._play_results.stack().to_frame('Outcome').rename_axis(index=['Roll', 'Die'])\n",
    "        else:\n",
    "            raise ValueError(\"Invalid form. Please choose 'wide' or 'narrow'.\")\n",
    "        \n",
    "class Analyzer:\n",
    "    \"\"\"\n",
    "    An Analyzer object takes the results of a single game (Game object) \n",
    "    and computes various descriptive statistical properties about it.\n",
    "    \"\"\"\n",
    "    def __init__(self, game):\n",
    "        \"\"\"\n",
    "        Initializes the Analyzer object with a Game object.\n",
    "        \n",
    "        Parameters:\n",
    "        game (Game): A Game object.\n",
    "        \n",
    "        Raises:\n",
    "        ValueError: If the input is not a Game object.\n",
    "        \"\"\"\n",
    "        if not hasattr(game, 'show'):\n",
    "            raise ValueError(\"The input must be a Game object.\")\n",
    "        \n",
    "        self.game = game\n",
    "        self.results = game.show('wide')\n",
    "\n",
    "    def jackpot(self):\n",
    "        \"\"\"\n",
    "        Counts how many jackpots occurred in the game.\n",
    "        \n",
    "        Returns:\n",
    "        int: The number of jackpots.\n",
    "        \"\"\"\n",
    "        return int((self.results.nunique(axis=1) == 1).sum())\n",
    "\n",
    "    def face_counts_per_roll(self):\n",
    "        \"\"\"\n",
    "        Computes the count of each face value per roll.\n",
    "        \n",
    "        Returns:\n",
    "        pd.DataFrame: A DataFrame with roll numbers as rows, face values as columns, and counts as values.\n",
    "        \"\"\"\n",
    "        return self.results.apply(pd.Series.value_counts, axis=1).fillna(0).astype(int)\n",
    "\n",
    "    def combo_count(self):\n",
    "        \"\"\"\n",
    "        Computes the distinct combinations of faces rolled, along with their counts.\n",
    "        \n",
    "        Combinations are order-independent and may contain repetitions.\n",
    "        \n",
    "        Returns:\n",
    "        pd.DataFrame: A DataFrame with a MultiIndex of distinct combinations and a column for the associated counts.\n",
    "        \"\"\"\n",
    "        combos = self.results.apply(lambda row: tuple(sorted(row)), axis=1)\n",
    "        combo_counts = combos.value_counts().reset_index()\n",
    "        combo_counts.columns = ['Combination', 'Count']\n",
    "        combo_counts.set_index('Combination', inplace=True)\n",
    "        return combo_counts\n",
    "\n",
    "    def permutation_count(self):\n",
    "        \"\"\"\n",
    "        Computes the distinct permutations of faces rolled, along with their counts.\n",
    "        \n",
    "        Permutations are order-dependent and may contain repetitions.\n",
    "        \n",
    "        Returns:\n",
    "        pd.DataFrame: A DataFrame with a MultiIndex of distinct permutations and a column for the associated counts.\n",
    "        \"\"\"\n",
    "        perms = self.results.apply(lambda row: tuple(row), axis=1)\n",
    "        perm_counts = perms.value_counts().reset_index()\n",
    "        perm_counts.columns = ['Permutation', 'Count']\n",
    "        perm_counts.set_index('Permutation', inplace=True)\n",
    "        return perm_counts\n",
    "```"
   ]
  },
  {
   "cell_type": "markdown",
   "id": "6377727a-8f0a-491e-9f1c-d9dc225edd35",
   "metadata": {},
   "source": [
    "## Unitest Module (2)\n",
    "\n",
    "Paste a copy of your test module below.\n",
    "\n",
    "NOTE: Paste as text, not as code. Use triple backticks to wrap your code blocks.\n",
    "\n",
    "- All methods have at least one test method (1).\n",
    "- Each method employs one of Unittest's Assert methods (1)."
   ]
  },
  {
   "cell_type": "markdown",
   "id": "14b878d8-258b-4cf2-ad88-b8ee90d43977",
   "metadata": {},
   "source": [
    "### test_monte_carlo.py\n",
    "\n",
    "```python\n",
    "import unittest\n",
    "import numpy as np\n",
    "import pandas as pd\n",
    "from monte_carlo import Die, Game, Analyzer\n",
    "\n",
    "class TestDie(unittest.TestCase):\n",
    "    def setUp(self):\n",
    "        self.faces = np.array([1, 2, 3, 4, 5, 6])\n",
    "        self.die = Die(self.faces)\n",
    "\n",
    "    def test_init(self):\n",
    "        # Test that the representation of the die is a DataFrame\n",
    "        self.assertIsInstance(self.die._df, pd.DataFrame)\n",
    "\n",
    "    def test_change_weight(self):\n",
    "        self.die.change_weight(1, 2.0)\n",
    "        \n",
    "        # Test that the weight of the 1 face has been updated to 2\n",
    "        self.assertEqual(self.die._df.loc[1, 'weight'], 2.0)\n",
    "\n",
    "    def test_roll(self):\n",
    "        result = self.die.roll(10)\n",
    "        \n",
    "        # Test that the number of results is equal to 10, the number of rolls\n",
    "        self.assertEqual(len(result), 10)\n",
    "\n",
    "    def test_show(self):\n",
    "        df = self.die.show()\n",
    "        \n",
    "        # Test that the representation of the current state of the die is a DataFrame\n",
    "        self.assertIsInstance(df, pd.DataFrame)\n",
    "\n",
    "class TestGame(unittest.TestCase):\n",
    "    def setUp(self):\n",
    "        faces = np.array([1, 2, 3, 4, 5, 6])\n",
    "        self.dice = [Die(faces), Die(faces)]\n",
    "        self.game = Game(self.dice)\n",
    "\n",
    "    def test_init(self):\n",
    "        # Test that the dice input is a list\n",
    "        self.assertIsInstance(self.game.dice, list)\n",
    "        \n",
    "        # Test that all elements in the dice list are instances of the Die class\n",
    "        for die in self.game.dice:\n",
    "            self.assertIsInstance(die, Die)\n",
    "\n",
    "    def test_play(self):\n",
    "        self.game.play(10)\n",
    "        \n",
    "        # Test that the results are a DataFrame\n",
    "        self.assertIsInstance(self.game._play_results, pd.DataFrame)\n",
    "        \n",
    "        # Check that the number of rows in the results dataframe is equal to 10, the number of rolls\n",
    "        self.assertEqual(len(self.game._play_results), 10)\n",
    "\n",
    "    def test_show(self):\n",
    "        self.game.play(10)\n",
    "        df_wide = self.game.show('wide')\n",
    "        df_narrow = self.game.show('narrow')\n",
    "        \n",
    "        # Check that the results are DataFrames\n",
    "        self.assertIsInstance(df_wide, pd.DataFrame)\n",
    "        self.assertIsInstance(df_narrow, pd.DataFrame)\n",
    "        \n",
    "        # Check that the narrow results output the Roll and Die\n",
    "        self.assertEqual(df_narrow.index.names, ['Roll', 'Die'])\n",
    "\n",
    "class TestAnalyzer(unittest.TestCase):\n",
    "    def setUp(self):\n",
    "        faces = np.array([1, 2, 3, 4, 5, 6])\n",
    "        dice = [Die(faces), Die(faces)]\n",
    "        game = Game(dice)\n",
    "        num_rolls = 10\n",
    "        game.play(num_rolls)\n",
    "        self.num_rolls = num_rolls\n",
    "        self.game = game\n",
    "        self.analyzer = Analyzer(game)\n",
    "\n",
    "    def test_init(self):\n",
    "        # Check that the input is a Game object\n",
    "        self.assertTrue(hasattr(self.analyzer.game, 'show'), \"The input must be a Game object.\")\n",
    "        \n",
    "        # Check that the results attribute is a DataFrame\n",
    "        self.assertIsInstance(self.analyzer.results, pd.DataFrame)\n",
    "\n",
    "    def test_jackpot(self):\n",
    "        # Calculate jackpots\n",
    "        jackpots = self.analyzer.jackpot()\n",
    "        \n",
    "        # Check that the result is an integer\n",
    "        self.assertIsInstance(jackpots, int)\n",
    "        \n",
    "        # Check that the jackpot count is less than or equal to the number of rolls\n",
    "        self.assertLessEqual(jackpots, self.num_rolls)\n",
    "\n",
    "    def test_face_counts_per_roll(self):\n",
    "        # Get face counts per roll\n",
    "        face_counts = self.analyzer.face_counts_per_roll()\n",
    "        \n",
    "        # Check that the result is a DataFrame\n",
    "        self.assertIsInstance(face_counts, pd.DataFrame)\n",
    "        \n",
    "        # Check that the number of rows in the DataFrame is equal to the number of rolls\n",
    "        self.assertEqual(len(face_counts), self.num_rolls)\n",
    "\n",
    "    def test_combo_count(self):\n",
    "        combo_counts = self.analyzer.combo_count()\n",
    "        perm_counts = self.analyzer.permutation_count()\n",
    "        \n",
    "        # Check that the result is a DataFrame\n",
    "        self.assertIsInstance(combo_counts, pd.DataFrame)\n",
    "        \n",
    "        # Check that the number of combinations is less than or equal to the number of permutations\n",
    "        self.assertLessEqual(len(combo_counts), len(perm_counts))\n",
    "\n",
    "    def test_permutation_count(self):\n",
    "        perm_counts = self.analyzer.permutation_count()\n",
    "        combo_counts = self.analyzer.combo_count()\n",
    "\n",
    "        # Check that the result is a DataFrame\n",
    "        self.assertIsInstance(perm_counts, pd.DataFrame)\n",
    "        \n",
    "        # Check that the number of permutations is greater than or equal to the number of combinations\n",
    "        self.assertGreaterEqual(len(perm_counts), len(combo_counts))\n",
    "\n",
    "if __name__ == '__main__':\n",
    "    unittest.main()\n",
    "```"
   ]
  },
  {
   "cell_type": "markdown",
   "id": "3e058d03-29bc-408f-b36d-0605b4f4b8c0",
   "metadata": {
    "tags": []
   },
   "source": [
    "## Unittest Results (3)\n",
    "\n",
    "Put a copy of the results of running your tests from the command line here.\n",
    "\n",
    "Again, paste as text using triple backticks.\n",
    "\n",
    "- All 12 specified methods return OK (3; .25 each)."
   ]
  },
  {
   "cell_type": "markdown",
   "id": "54691fd0-836c-43c7-adc9-4a09d8aa9ab2",
   "metadata": {
    "tags": []
   },
   "source": [
    "```bash\n",
    "jbm2rt@rivanna> python test_monte_carlo.py\n",
    "............\n",
    "----------------------------------------------------------------------\n",
    "Ran 12 tests in 0.025s\n",
    "\n",
    "OK\n",
    "```"
   ]
  },
  {
   "cell_type": "markdown",
   "id": "d9ffe8c5-eb2f-4ad1-af76-a46550e4c7ac",
   "metadata": {},
   "source": [
    "## Import (1)\n",
    "\n",
    "Import your module here. This import should refer to the code in your package directory.\n",
    "\n",
    "- Module successfully imported (1)."
   ]
  },
  {
   "cell_type": "code",
   "execution_count": 71,
   "id": "a05dffb3-e6d6-4f78-9df4-5abd0cf74ca9",
   "metadata": {
    "tags": []
   },
   "outputs": [],
   "source": [
    "import monte_carlo"
   ]
  },
  {
   "cell_type": "markdown",
   "id": "f30c4842-65b1-4556-98b6-3fe1a07e1371",
   "metadata": {},
   "source": [
    "## Help Docs (4)\n",
    "\n",
    "Show your docstring documentation by applying `help()` to your imported module.\n",
    "\n",
    "- All methods have a docstring (3; .25 each).\n",
    "- All classes have a docstring (1; .33 each)."
   ]
  },
  {
   "cell_type": "code",
   "execution_count": 72,
   "id": "bf4fbf1f-9885-471c-a0a6-e9ca90e160de",
   "metadata": {
    "tags": []
   },
   "outputs": [
    {
     "name": "stdout",
     "output_type": "stream",
     "text": [
      "Help on module monte_carlo:\n",
      "\n",
      "NAME\n",
      "    monte_carlo\n",
      "\n",
      "CLASSES\n",
      "    builtins.object\n",
      "        Analyzer\n",
      "        Die\n",
      "        Game\n",
      "    \n",
      "    class Analyzer(builtins.object)\n",
      "     |  Analyzer(game)\n",
      "     |  \n",
      "     |  An Analyzer object takes the results of a single game and computes various descriptive statistical properties about it.\n",
      "     |  \n",
      "     |  Methods defined here:\n",
      "     |  \n",
      "     |  __init__(self, game)\n",
      "     |      Initializes the Analyzer object with a Game object.\n",
      "     |      \n",
      "     |      Parameters:\n",
      "     |      game (Game): A Game object.\n",
      "     |      \n",
      "     |      Raises:\n",
      "     |      ValueError: If the input is not a Game object.\n",
      "     |  \n",
      "     |  combo_count(self)\n",
      "     |      Computes the distinct combinations of faces rolled, along with their counts.\n",
      "     |      \n",
      "     |      Combinations are order-independent and may contain repetitions.\n",
      "     |      \n",
      "     |      Returns:\n",
      "     |      pd.DataFrame: A DataFrame with a MultiIndex of distinct combinations and a column for the associated counts.\n",
      "     |  \n",
      "     |  face_counts_per_roll(self)\n",
      "     |      Computes the count of each face value per roll.\n",
      "     |      \n",
      "     |      Returns:\n",
      "     |      pd.DataFrame: A DataFrame with roll numbers as rows, face values as columns, and counts as values.\n",
      "     |  \n",
      "     |  jackpot(self)\n",
      "     |      Counts how many jackpots occurred in the game.\n",
      "     |      \n",
      "     |      Returns:\n",
      "     |      int: The number of jackpots.\n",
      "     |  \n",
      "     |  permutation_count(self)\n",
      "     |      Computes the distinct permutations of faces rolled, along with their counts.\n",
      "     |      \n",
      "     |      Permutations are order-dependent and may contain repetitions.\n",
      "     |      \n",
      "     |      Returns:\n",
      "     |      pd.DataFrame: A DataFrame with a MultiIndex of distinct permutations and a column for the associated counts.\n",
      "     |  \n",
      "     |  ----------------------------------------------------------------------\n",
      "     |  Data descriptors defined here:\n",
      "     |  \n",
      "     |  __dict__\n",
      "     |      dictionary for instance variables (if defined)\n",
      "     |  \n",
      "     |  __weakref__\n",
      "     |      list of weak references to the object (if defined)\n",
      "    \n",
      "    class Die(builtins.object)\n",
      "     |  Die(faces: numpy.ndarray)\n",
      "     |  \n",
      "     |  Represents a single die with customizable faces and weights.\n",
      "     |  \n",
      "     |  A die can be initialized with a set of faces, each having a default \n",
      "     |  weight of 1.0. Users can modify the weights and roll the die to generate \n",
      "     |  random outcomes based on these weights.\n",
      "     |  \n",
      "     |  Methods defined here:\n",
      "     |  \n",
      "     |  __init__(self, faces: numpy.ndarray)\n",
      "     |      Initializes the Die object with faces and equal weights.\n",
      "     |      \n",
      "     |      Parameters:\n",
      "     |      faces (np.ndarray): A NumPy array of unique face values (strings or numbers).\n",
      "     |      \n",
      "     |      Raises:\n",
      "     |      TypeError: If `faces` is not a NumPy array.\n",
      "     |      ValueError: If the values in `faces` are not unique.\n",
      "     |  \n",
      "     |  change_weight(self, face, new_weight)\n",
      "     |      Changes the weight of a specified face.\n",
      "     |      \n",
      "     |      Parameters:\n",
      "     |      face: The face value whose weight is to be changed.\n",
      "     |      new_weight: The new weight to be assigned to the face.\n",
      "     |      \n",
      "     |      Raises:\n",
      "     |      IndexError: If the face value is not found in the die faces.\n",
      "     |      TypeError: If the new weight is not a non-negative number.\n",
      "     |  \n",
      "     |  roll(self, num_rolls=1)\n",
      "     |      Rolls the die one or more times.\n",
      "     |      \n",
      "     |      Parameters:\n",
      "     |      num_rolls (int): The number of times to roll the die. Defaults to 1.\n",
      "     |      \n",
      "     |      Returns:\n",
      "     |      list: A list of outcomes from the rolls.\n",
      "     |  \n",
      "     |  show(self)\n",
      "     |      Shows the current state of the die.\n",
      "     |      \n",
      "     |      Returns:\n",
      "     |      pd.DataFrame: A copy of the die's faces and weights.\n",
      "     |  \n",
      "     |  ----------------------------------------------------------------------\n",
      "     |  Data descriptors defined here:\n",
      "     |  \n",
      "     |  __dict__\n",
      "     |      dictionary for instance variables (if defined)\n",
      "     |  \n",
      "     |  __weakref__\n",
      "     |      list of weak references to the object (if defined)\n",
      "    \n",
      "    class Game(builtins.object)\n",
      "     |  Game(dice: list)\n",
      "     |  \n",
      "     |  Represents a game consisting of rolling one or more similar dice (Die objects) one or more times.\n",
      "     |  \n",
      "     |  Each die in a given game has the same number of sides and associated faces, but each die object may have its own weights.\n",
      "     |  \n",
      "     |  Methods defined here:\n",
      "     |  \n",
      "     |  __init__(self, dice: list)\n",
      "     |      Initializes the Game object with a list of Die objects.\n",
      "     |      \n",
      "     |      Parameters:\n",
      "     |      dice (list): A list of Die objects.\n",
      "     |      \n",
      "     |      Raises:\n",
      "     |      TypeError: If the list does not contain Die objects.\n",
      "     |  \n",
      "     |  play(self, n_rolls: int)\n",
      "     |      Rolls all dice in the game for a specified number of times.\n",
      "     |      \n",
      "     |      Parameters:\n",
      "     |      n_rolls (int): The number of times to roll the dice.\n",
      "     |      \n",
      "     |      Saves:\n",
      "     |      A private data frame with the results of the rolls in wide format.\n",
      "     |  \n",
      "     |  show(self, form='wide')\n",
      "     |      Shows the results of the most recent play.\n",
      "     |      \n",
      "     |      Parameters:\n",
      "     |      form (str): The format of the returned data frame, either 'wide' or 'narrow'. Defaults to 'wide'.\n",
      "     |      \n",
      "     |      Returns:\n",
      "     |      pd.DataFrame: A copy of the play results in the specified format.\n",
      "     |      \n",
      "     |      Raises:\n",
      "     |      ValueError: If the form parameter is not 'wide' or 'narrow'.\n",
      "     |  \n",
      "     |  ----------------------------------------------------------------------\n",
      "     |  Data descriptors defined here:\n",
      "     |  \n",
      "     |  __dict__\n",
      "     |      dictionary for instance variables (if defined)\n",
      "     |  \n",
      "     |  __weakref__\n",
      "     |      list of weak references to the object (if defined)\n",
      "\n",
      "FILE\n",
      "    /sfs/gpfs/tardis/home/jbm2rt/Documents/MSDS/monte_carlo/monte_carlo/monte_carlo.py\n",
      "\n",
      "\n"
     ]
    }
   ],
   "source": [
    "help(monte_carlo)"
   ]
  },
  {
   "cell_type": "markdown",
   "id": "a9defa84-b395-4966-bd1c-5c6c2bb7ed68",
   "metadata": {},
   "source": [
    "## `README.md` File (3)\n",
    "\n",
    "Provide link to the README.md file of your project's repo.\n",
    "\n",
    "- Metadata section or info present (1).\n",
    "- Synopsis section showing how each class is called (1). (All must be included.)\n",
    "- API section listing all classes and methods (1). (All must be included.)"
   ]
  },
  {
   "cell_type": "markdown",
   "id": "ee090b33-d593-48a0-bf35-e739cea0942c",
   "metadata": {},
   "source": [
    "URL: https://github.com/robertclayh/monte_carlo/blob/main/README.md"
   ]
  },
  {
   "cell_type": "markdown",
   "id": "108604c8-8827-42ef-ab59-6b25428fc0ca",
   "metadata": {},
   "source": [
    "## Successful installation (2)\n",
    "\n",
    "Put a screenshot or paste a copy of a terminal session where you successfully install your module with pip.\n",
    "\n",
    "If pasting text, use a preformatted text block to show the results.\n",
    "\n",
    "- Installed with `pip` (1).\n",
    "- Successfully installed message appears (1)."
   ]
  },
  {
   "cell_type": "markdown",
   "id": "1278db6a-aa53-4e5c-a749-93a87ab239e0",
   "metadata": {
    "vscode": {
     "languageId": "raw"
    }
   },
   "source": [
    "```bash\n",
    "pip install .\n",
    "Processing /Users/queclay/Documents/MSDS/programming/monte_carlo\n",
    "  Installing build dependencies ... done\n",
    "  Getting requirements to build wheel ... done\n",
    "  Preparing metadata (pyproject.toml) ... done\n",
    "Requirement already satisfied: numpy in /Library/Frameworks/Python.framework/Versions/3.12/lib/python3.12/site-p\n",
    "ackages (from monte_carlo==0.1) (1.26.4)                                                                        Requirement already satisfied: pandas in /Library/Frameworks/Python.framework/Versions/3.12/lib/python3.12/site-\n",
    "packages (from monte_carlo==0.1) (2.2.2)                                                                        Requirement already satisfied: python-dateutil>=2.8.2 in /Library/Frameworks/Python.framework/Versions/3.12/lib/\n",
    "python3.12/site-packages (from pandas->monte_carlo==0.1) (2.9.0.post0)                                          Requirement already satisfied: pytz>=2020.1 in /Library/Frameworks/Python.framework/Versions/3.12/lib/python3.12\n",
    "/site-packages (from pandas->monte_carlo==0.1) (2024.1)                                                         Requirement already satisfied: tzdata>=2022.7 in /Library/Frameworks/Python.framework/Versions/3.12/lib/python3.\n",
    "12/site-packages (from pandas->monte_carlo==0.1) (2024.1)                                                       Requirement already satisfied: six>=1.5 in /Library/Frameworks/Python.framework/Versions/3.12/lib/python3.12/sit\n",
    "e-packages (from python-dateutil>=2.8.2->pandas->monte_carlo==0.1) (1.16.0)                                     Building wheels for collected packages: monte_carlo\n",
    "  Building wheel for monte_carlo (pyproject.toml) ... done\n",
    "  Created wheel for monte_carlo: filename=monte_carlo-0.1-py3-none-any.whl size=6625 sha256=9c010fec21302c40a93d\n",
    "52b57bcc5afa55d050eb5e0170473c5764e48346d785                                                                      Stored in directory: /private/var/folders/fn/36dz4z514cd0cmgsz1j3_f340000gn/T/pip-ephem-wheel-cache-bnrmjh17/w\n",
    "heels/c1/de/e5/94fb9c57af5856cd3d82498699ba02b5550ae5fa2f0c370f3c                                               Successfully built monte_carlo\n",
    "Installing collected packages: monte_carlo\n",
    "Successfully installed monte_carlo-0.1\n",
    "```"
   ]
  },
  {
   "cell_type": "markdown",
   "id": "7c44695d-d1b3-4edf-9f94-e64d7446f199",
   "metadata": {},
   "source": [
    "# Scenarios\n",
    "\n",
    "Use code blocks to perform the tasks for each scenario.\n",
    "\n",
    "Be sure the outputs are visible before submitting."
   ]
  },
  {
   "cell_type": "markdown",
   "id": "e2479eae-6fc9-44cd-b8d7-9b22cb501f2a",
   "metadata": {
    "tags": []
   },
   "source": [
    "## Scenario 1: A 2-headed Coin (9)\n",
    "\n",
    "Task 1. Create a fair coin (with faces $H$ and $T$) and one unfair coin in which one of the faces has a weight of $5$ and the others $1$.\n",
    "\n",
    "- Fair coin created (1).\n",
    "- Unfair coin created with weight as specified (1)."
   ]
  },
  {
   "cell_type": "code",
   "execution_count": 50,
   "id": "55ce498e-c75f-4425-9e3e-b635bd6cd9e1",
   "metadata": {
    "tags": []
   },
   "outputs": [],
   "source": [
    "from monte_carlo import Die\n",
    "\n",
    "# Create a fair coin\n",
    "fair_coin_faces = np.array(['H', 'T'])\n",
    "fair_coin = Die(fair_coin_faces)\n",
    "\n",
    "# Create an unfair coin\n",
    "unfair_coin_faces = np.array(['H', 'T'])\n",
    "unfair_coin = Die(unfair_coin_faces)\n",
    "unfair_coin.change_weight('H', 5)"
   ]
  },
  {
   "cell_type": "markdown",
   "id": "02b272ab-99da-4b6e-ac2a-555b73e09c07",
   "metadata": {},
   "source": [
    "Task 2. Play a game of $1000$ flips with two fair dice.\n",
    "\n",
    "- Play method called correclty and without error (1)."
   ]
  },
  {
   "cell_type": "code",
   "execution_count": 51,
   "id": "65c92601-d32d-4326-b215-74953aee27f2",
   "metadata": {
    "tags": []
   },
   "outputs": [],
   "source": [
    "from monte_carlo import Game\n",
    "\n",
    "# Create a game with two fair coins\n",
    "fair_game = Game([fair_coin, fair_coin])\n",
    "\n",
    "# Play the game with 1000 flips\n",
    "fair_game.play(1000)"
   ]
  },
  {
   "cell_type": "markdown",
   "id": "7d9c3dc8-22c1-4cae-81fb-d68d774a05d1",
   "metadata": {},
   "source": [
    "Task 3. Play another game (using a new Game object) of $1000$ flips, this time using two unfair dice and one fair die. For the second unfair die, you can use the same die object twice in the list of dice you pass to the Game object.\n",
    "\n",
    "- New game object created (1).\n",
    "- Play method called correclty and without error (1)."
   ]
  },
  {
   "cell_type": "code",
   "execution_count": 52,
   "id": "d4098bed-1eb2-4084-8d5e-9fda07c3be43",
   "metadata": {
    "tags": []
   },
   "outputs": [],
   "source": [
    "# Create a new game with two unfair coins and one fair coin\n",
    "unfair_game = Game([unfair_coin, unfair_coin, fair_coin])\n",
    "\n",
    "# Play the game with 1000 flips\n",
    "unfair_game.play(1000)"
   ]
  },
  {
   "cell_type": "markdown",
   "id": "f690ebfc-fe71-4eb2-976d-7ac80ca6c23f",
   "metadata": {},
   "source": [
    "Task 4. For each game, use an Analyzer object to determine the raw frequency of jackpots — i.e. getting either all $H$s or all $T$s.\n",
    "\n",
    "- Analyzer objecs instantiated for both games (1).\n",
    "- Raw frequencies reported for both (1)."
   ]
  },
  {
   "cell_type": "code",
   "execution_count": 53,
   "id": "b26b8b7e-3be7-4476-a9a4-37d97536729e",
   "metadata": {
    "tags": []
   },
   "outputs": [
    {
     "name": "stdout",
     "output_type": "stream",
     "text": [
      "Raw frequency of jackpots in fair game: 487\n",
      "Raw frequency of jackpots in unfair game: 367\n"
     ]
    }
   ],
   "source": [
    "from monte_carlo import Analyzer\n",
    "\n",
    "# Instantiate Analyzer objects for both games\n",
    "fair_game_analyzer = Analyzer(fair_game)\n",
    "unfair_game_analyzer = Analyzer(unfair_game)\n",
    "\n",
    "# Determine the raw frequency of jackpots for both games\n",
    "fair_game_jackpots = fair_game_analyzer.jackpot()\n",
    "unfair_game_jackpots = unfair_game_analyzer.jackpot()\n",
    "\n",
    "# Print the raw frequencies\n",
    "print(f\"Raw frequency of jackpots in fair game: {fair_game_jackpots}\")\n",
    "print(f\"Raw frequency of jackpots in unfair game: {unfair_game_jackpots}\")"
   ]
  },
  {
   "cell_type": "markdown",
   "id": "b73d233c-445e-40cd-8858-0c5e1f097105",
   "metadata": {},
   "source": [
    "Task 5. For each analyzer, compute relative frequency as the number of jackpots over the total number of rolls.\n",
    "\n",
    "- Both relative frequencies computed (1)."
   ]
  },
  {
   "cell_type": "code",
   "execution_count": 54,
   "id": "9a96b31b-1b9d-496e-be3e-4bf83c45ec3a",
   "metadata": {
    "tags": []
   },
   "outputs": [
    {
     "name": "stdout",
     "output_type": "stream",
     "text": [
      "Relative frequency of jackpots in fair game: 0.487\n",
      "Relative frequency of jackpots in unfair game: 0.367\n"
     ]
    }
   ],
   "source": [
    "# Compute relative frequency of jackpots for both games\n",
    "fair_game_relative_frequency = fair_game_jackpots / 1000\n",
    "unfair_game_relative_frequency = unfair_game_jackpots / 1000\n",
    "\n",
    "# Print the relative frequencies\n",
    "print(f\"Relative frequency of jackpots in fair game: {fair_game_relative_frequency}\")\n",
    "print(f\"Relative frequency of jackpots in unfair game: {unfair_game_relative_frequency}\")"
   ]
  },
  {
   "cell_type": "markdown",
   "id": "a6e1e734-7f5c-4721-8ba4-2f3a424cf984",
   "metadata": {},
   "source": [
    "Task 6. Show your results, comparing the two relative frequencies, in a simple bar chart.\n",
    "\n",
    "- Bar chart plotted and correct (1)."
   ]
  },
  {
   "cell_type": "code",
   "execution_count": 55,
   "id": "473fa67c-aa53-4aa3-a0b7-e8772b3f6ed3",
   "metadata": {
    "tags": []
   },
   "outputs": [
    {
     "data": {
      "image/png": "[encoded data removed]",
      "text/plain": [
       "<Figure size 640x480 with 1 Axes>"
      ]
     },
     "metadata": {},
     "output_type": "display_data"
    }
   ],
   "source": [
    "import matplotlib.pyplot as plt\n",
    "\n",
    "# Data for plotting\n",
    "labels = ['Fair Game', 'Unfair Game']\n",
    "relative_frequencies = [fair_game_relative_frequency, unfair_game_relative_frequency]\n",
    "\n",
    "# Create the bar chart\n",
    "plt.bar(labels, relative_frequencies, color=['blue', 'red'])\n",
    "\n",
    "# Add title and labels\n",
    "plt.title('Relative Frequency of Jackpots')\n",
    "plt.xlabel('Game Type')\n",
    "plt.ylabel('Relative Frequency')\n",
    "\n",
    "# Show the plot\n",
    "plt.show()"
   ]
  },
  {
   "cell_type": "markdown",
   "id": "725cfa5b-e4b7-47c9-86aa-8d9e1fe6c8c7",
   "metadata": {},
   "source": [
    "## Scenario 2: A 6-sided Die (9)\n",
    "\n",
    "Task 1. Create three dice, each with six sides having the faces 1 through 6.\n",
    "\n",
    "- Three die objects created (1)."
   ]
  },
  {
   "cell_type": "code",
   "execution_count": 56,
   "id": "6a8bc611-325a-4e05-88d5-980e0a2cf7c5",
   "metadata": {
    "tags": []
   },
   "outputs": [],
   "source": [
    "# Create three dice, each with six sides having the faces 1 through 6\n",
    "faces = np.array([1, 2, 3, 4, 5, 6])\n",
    "die1 = Die(faces)\n",
    "die2 = Die(faces)\n",
    "die3 = Die(faces)"
   ]
  },
  {
   "cell_type": "markdown",
   "id": "2ed3ad26-fbe9-43bd-9ad7-f683a4191d12",
   "metadata": {},
   "source": [
    "Task 2. Convert one of the dice to an unfair one by weighting the face $6$ five times more than the other weights (i.e. it has weight of 5 and the others a weight of 1 each).\n",
    "\n",
    "- Unfair die created with proper call to weight change method (1)."
   ]
  },
  {
   "cell_type": "code",
   "execution_count": 57,
   "id": "e33dd18f-7f90-456d-a680-61c08a328e21",
   "metadata": {
    "tags": []
   },
   "outputs": [],
   "source": [
    "# Convert die1 to an unfair die by weighting the face 6 five times more than the other weights\n",
    "die1.change_weight(6, 5)"
   ]
  },
  {
   "cell_type": "markdown",
   "id": "7f6c062a-4c5b-45b9-96b8-76a0354c7e47",
   "metadata": {},
   "source": [
    "Task 3. Convert another of the dice to be unfair by weighting the face $1$ five times more than the others.\n",
    "\n",
    "- Unfair die created with proper call to weight change method (1)."
   ]
  },
  {
   "cell_type": "code",
   "execution_count": 58,
   "id": "01133a4e-6b06-4246-8d90-8e6d6995be51",
   "metadata": {
    "tags": []
   },
   "outputs": [],
   "source": [
    "# Convert die2 to an unfair die by weighting the face 1 five times more than the other weights\n",
    "die2.change_weight(1, 5)"
   ]
  },
  {
   "cell_type": "markdown",
   "id": "f0ed31cb-0a3c-4eb2-b85e-6ed6b2eb6e58",
   "metadata": {},
   "source": [
    "Task 4. Play a game of $10000$ rolls with $5$ fair dice.\n",
    "\n",
    "- Game class properly instantiated (1). \n",
    "- Play method called properly (1)."
   ]
  },
  {
   "cell_type": "code",
   "execution_count": 59,
   "id": "e92395a4-9ed8-4cb0-8c85-38768a784ffc",
   "metadata": {
    "tags": []
   },
   "outputs": [],
   "source": [
    "# Create a game with five fair dice\n",
    "fair_dice_game = Game([die3, die3, die3, die3, die3])\n",
    "\n",
    "# Play the game with 10000 rolls\n",
    "fair_dice_game.play(10000)"
   ]
  },
  {
   "cell_type": "markdown",
   "id": "7814b402-46a4-40e5-8141-20e05c3e646b",
   "metadata": {},
   "source": [
    "Task 5. Play another game of $10000$ rolls, this time with $2$ unfair dice, one as defined in steps #2 and #3 respectively, and $3$ fair dice.\n",
    "\n",
    "- Game class properly instantiated (1). \n",
    "- Play method called properly (1)."
   ]
  },
  {
   "cell_type": "code",
   "execution_count": 60,
   "id": "7cd58fba-b2a5-4d5d-bc6d-2a7a68d18c4f",
   "metadata": {
    "tags": []
   },
   "outputs": [],
   "source": [
    "# Create a game with two unfair dice (die1 and die2) and three fair dice (die3)\n",
    "mixed_dice_game = Game([die1, die2, die3, die3, die3])\n",
    "\n",
    "# Play the game with 10000 rolls\n",
    "mixed_dice_game.play(10000)"
   ]
  },
  {
   "cell_type": "markdown",
   "id": "7b6cd372-2bb8-4df8-ade1-8f48bc300955",
   "metadata": {},
   "source": [
    "Task 6. For each game, use an Analyzer object to determine the relative frequency of jackpots and show your results, comparing the two relative frequencies, in a simple bar chart.\n",
    "\n",
    "- Jackpot methods called (1).\n",
    "- Graph produced (1)."
   ]
  },
  {
   "cell_type": "code",
   "execution_count": 61,
   "id": "bbdcf695-8937-406e-9b53-aa0b9ee3c59a",
   "metadata": {
    "tags": []
   },
   "outputs": [
    {
     "name": "stdout",
     "output_type": "stream",
     "text": [
      "Relative frequency of jackpots in fair dice game: 0.0009\n",
      "Relative frequency of jackpots in mixed dice game: 0.0011\n"
     ]
    },
    {
     "data": {
      "image/png": "[encoded data removed]",
      "text/plain": [
       "<Figure size 640x480 with 1 Axes>"
      ]
     },
     "metadata": {},
     "output_type": "display_data"
    }
   ],
   "source": [
    "# Instantiate Analyzer objects for both games\n",
    "fair_dice_analyzer = Analyzer(fair_dice_game)\n",
    "mixed_dice_analyzer = Analyzer(mixed_dice_game)\n",
    "\n",
    "# Determine the raw frequency of jackpots for both games\n",
    "fair_dice_jackpots = fair_dice_analyzer.jackpot()\n",
    "mixed_dice_jackpots = mixed_dice_analyzer.jackpot()\n",
    "\n",
    "# Compute relative frequency of jackpots for both games\n",
    "fair_dice_relative_frequency = fair_dice_jackpots / 10000\n",
    "mixed_dice_relative_frequency = mixed_dice_jackpots / 10000\n",
    "\n",
    "# Print the relative frequencies\n",
    "print(f\"Relative frequency of jackpots in fair dice game: {fair_dice_relative_frequency}\")\n",
    "print(f\"Relative frequency of jackpots in mixed dice game: {mixed_dice_relative_frequency}\")\n",
    "\n",
    "# Data for plotting\n",
    "labels = ['Fair Dice Game', 'Mixed Dice Game']\n",
    "relative_frequencies = [fair_dice_relative_frequency, mixed_dice_relative_frequency]\n",
    "\n",
    "# Create the bar chart\n",
    "plt.bar(labels, relative_frequencies, color=['blue', 'green'])\n",
    "\n",
    "# Add title and labels\n",
    "plt.title('Relative Frequency of Jackpots')\n",
    "plt.xlabel('Game Type')\n",
    "plt.ylabel('Relative Frequency')\n",
    "\n",
    "# Show the plot\n",
    "plt.show()"
   ]
  },
  {
   "cell_type": "markdown",
   "id": "9f04e9be-8fcf-4ea4-a391-6614608285f8",
   "metadata": {},
   "source": [
    "## Scenario 3: Letters of the Alphabet (7)\n",
    "\n",
    "Task 1. Create a \"die\" of letters from $A$ to $Z$ with weights based on their frequency of usage as found in the data file `english_letters.txt`. Use the frequencies (i.e. raw counts) as weights.\n",
    "\n",
    "- Die correctly instantiated with source file data (1).\n",
    "- Weights properly applied using weight setting method (1)."
   ]
  },
  {
   "cell_type": "code",
   "execution_count": 62,
   "id": "b0ceb771-3cdf-4d8f-8c2c-020806bbb909",
   "metadata": {
    "tags": []
   },
   "outputs": [],
   "source": [
    "# Read the letter frequencies from the file\n",
    "letter_frequencies = {}\n",
    "with open('english_letters.txt', 'r') as file:\n",
    "    for line in file:\n",
    "        letter, frequency = line.split()\n",
    "        letter_frequencies[letter] = int(frequency)\n",
    "\n",
    "# Create a die with letters A to Z\n",
    "letters = np.array(list(letter_frequencies.keys()))\n",
    "letter_die = Die(letters)\n",
    "\n",
    "# Apply the weights to the die\n",
    "for letter, weight in letter_frequencies.items():\n",
    "    letter_die.change_weight(letter, weight)"
   ]
  },
  {
   "cell_type": "markdown",
   "id": "88e2e14a-6223-470a-a2c8-bca1120d7a5b",
   "metadata": {},
   "source": [
    "Task 2. Play a game involving $4$ of these dice with $1000$ rolls.\n",
    "\n",
    "- Game play method properly called (1)."
   ]
  },
  {
   "cell_type": "code",
   "execution_count": 63,
   "id": "2ae087cc-936d-4f1e-bddb-a7c179d139e0",
   "metadata": {
    "tags": []
   },
   "outputs": [],
   "source": [
    "# Create a game with four letter dice\n",
    "letter_game = Game([letter_die, letter_die, letter_die, letter_die])\n",
    "\n",
    "# Play the game with 1000 rolls\n",
    "letter_game.play(1000)"
   ]
  },
  {
   "cell_type": "markdown",
   "id": "3b9ff800-bf1f-4f66-9d7f-ff57a648e9f0",
   "metadata": {},
   "source": [
    "Task 3. Determine how many permutations in your results are actual English words, based on the vocabulary found in `scrabble_words.txt`.\n",
    "\n",
    "- Use permutation method (1).\n",
    "- Get count as difference between permutations and vocabulary (1)."
   ]
  },
  {
   "cell_type": "code",
   "execution_count": 64,
   "id": "ed1c7fa0-cfa3-4cf4-9fd0-9f84b86b0f64",
   "metadata": {
    "tags": []
   },
   "outputs": [
    {
     "name": "stdout",
     "output_type": "stream",
     "text": [
      "Number of actual English words: 37\n"
     ]
    }
   ],
   "source": [
    "# Generate permutations of the results from the game\n",
    "letter_analyzer = Analyzer(letter_game)\n",
    "permutations = letter_analyzer.permutation_count().index\n",
    "\n",
    "# Load the vocabulary from scrabble_words.txt\n",
    "with open('scrabble_words.txt', 'r') as file:\n",
    "    vocabulary = set(word.strip().upper() for word in file)\n",
    "\n",
    "# Count how many of the permutations are actual English words\n",
    "actual_words_count = sum(1 for perm in permutations if ''.join(perm) in vocabulary)\n",
    "\n",
    "# Print the count of actual English words\n",
    "print(f\"Number of actual English words: {actual_words_count}\")"
   ]
  },
  {
   "cell_type": "markdown",
   "id": "fcf068cf-381a-4b3e-ac3a-0510eb4dbdb0",
   "metadata": {},
   "source": [
    "Task 4. Repeat steps #2 and #3, this time with $5$ dice. How many actual words does this produce? Which produces more?\n",
    "\n",
    "- Successfully repreats steps (1).\n",
    "- Identifies parameter with most found words (1)."
   ]
  },
  {
   "cell_type": "code",
   "execution_count": 65,
   "id": "2acd4695",
   "metadata": {
    "tags": []
   },
   "outputs": [
    {
     "name": "stdout",
     "output_type": "stream",
     "text": [
      "Number of actual English words with 4 dice: 37\n",
      "Number of actual English words with 5 dice: 6\n",
      "4 dice produce more actual English words.\n"
     ]
    }
   ],
   "source": [
    "# Create a game with five letter dice\n",
    "letter_game_5_dice = Game([letter_die, letter_die, letter_die, letter_die, letter_die])\n",
    "\n",
    "# Play the game with 1000 rolls\n",
    "letter_game_5_dice.play(1000)\n",
    "\n",
    "# Generate permutations of the results from the game\n",
    "letter_analyzer_5_dice = Analyzer(letter_game_5_dice)\n",
    "permutations_5_dice = letter_analyzer_5_dice.permutation_count().index\n",
    "\n",
    "# Count how many of the permutations are actual English words\n",
    "actual_words_count_5_dice = sum(1 for perm in permutations_5_dice if ''.join(perm) in vocabulary)\n",
    "\n",
    "# Print the count of actual English words\n",
    "print(f\"Number of actual English words with 4 dice: {actual_words_count}\")\n",
    "print(f\"Number of actual English words with 5 dice: {actual_words_count_5_dice}\")\n",
    "\n",
    "# Identify which produces more words\n",
    "if actual_words_count_5_dice > actual_words_count:\n",
    "    print(\"5 dice produce more actual English words.\")\n",
    "else:\n",
    "    print(\"4 dice produce more actual English words.\")"
   ]
  },
  {
   "cell_type": "markdown",
   "id": "ee28d4c2-0f20-4810-a30c-86303fcec99b",
   "metadata": {},
   "source": [
    "I was curious which words were created by my monkeys in a room full of typewriters..."
   ]
  },
  {
   "cell_type": "code",
   "execution_count": 69,
   "id": "4cc656f6-0692-4b10-ae08-931bde0deca2",
   "metadata": {
    "tags": []
   },
   "outputs": [
    {
     "name": "stdout",
     "output_type": "stream",
     "text": [
      "Words found with 4 dice:\n",
      "['HARE', 'NEWT', 'THAT', 'LONE', 'HALE', 'NOTE', 'LALL', 'TAES', 'OBES', 'TITS', 'EAUS', 'HANT', 'SPAN', 'SEEM', 'LENG', 'TORT', 'ECHT', 'DEEN', 'LEET', 'ANON', 'MAND', 'ISNA', 'TRIE', 'SERA', 'SICE', 'RIAL', 'KELT', 'TOSE', 'TREE', 'TRAT', 'TANE', 'PIPE', 'CEDE', 'GATE', 'TATE', 'NOTT', 'EDIT']\n",
      "Words found with 5 dice:\n",
      "['RIPPS', 'GEARE', 'METER', 'TINNY', 'GORAS', 'THIGH']\n"
     ]
    }
   ],
   "source": [
    "# Extract and print the list of actual English words for 4 dice\n",
    "actual_words_4_dice = [''.join(perm) for perm in permutations if ''.join(perm) in vocabulary]\n",
    "print(\"Words found with 4 dice:\")\n",
    "print(actual_words_4_dice)\n",
    "\n",
    "# Extract and print the list of actual English words for 5 dice\n",
    "actual_words_5_dice = [''.join(perm) for perm in permutations_5_dice if ''.join(perm) in vocabulary]\n",
    "print(\"Words found with 5 dice:\")\n",
    "print(actual_words_5_dice)"
   ]
  }
 ],
 "metadata": {
  "kernelspec": {
   "display_name": "Python 3 (ipykernel)",
   "language": "python",
   "name": "python3"
  },
  "language_info": {
   "codemirror_mode": {
    "name": "ipython",
    "version": 3
   },
   "file_extension": ".py",
   "mimetype": "text/x-python",
   "name": "python",
   "nbconvert_exporter": "python",
   "pygments_lexer": "ipython3",
   "version": "3.11.4"
  },
  "toc-autonumbering": true,
  "widgets": {
   "application/vnd.jupyter.widget-state+json": {
    "state": {},
    "version_major": 2,
    "version_minor": 0
   }
  }
 },
 "nbformat": 4,
 "nbformat_minor": 5
}
